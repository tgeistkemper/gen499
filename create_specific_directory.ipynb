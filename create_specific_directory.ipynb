{
 "cells": [
  {
   "cell_type": "code",
   "execution_count": 2,
   "metadata": {},
   "outputs": [
    {
     "name": "stdout",
     "output_type": "stream",
     "text": [
      "This directory already exists.\n",
      "The path of this directory is: /Users/tgeistkemper/anaconda3/bin/qrcode_location\n"
     ]
    }
   ],
   "source": [
    "#The purpose of this code is to learn how to make a directory for my qrcodes that is general for any computer software and\n",
    "#show exactly where the directory is located in the absolute path.\n",
    "#https://stackabuse.com/creating-and-deleting-directories-with-python/ - a website I used for learning about the os module\n",
    "#https://docs.python.org/3/library/os.html - documentation for the os python module\n",
    "#https://docs.python.org/3/library/os.path.html#module-os.path - documentation for the os.path python module\n",
    "\n",
    "#https://docs.python.org/3/library/os.html\n",
    "import os\n",
    "\n",
    "path = \"qrcode_location\" #naming the directory or \"path\" to be created\n",
    "\n",
    "if os.path.isdir(path) == True: #if the directory already exists...\n",
    "    print(\"This directory already exists.\") #Do not create this directory as it will result in an error. Print this instead\n",
    "    print(\"The path of this directory is:\", os.path.abspath(path)) #printing the absolute path of the directory\n",
    "else: #if the directory does not already exist...\n",
    "    print(\"Creating new directory.\")\n",
    "    os.mkdir(path)\n",
    "    print(\"New directory made.\") #Print statement letting the user know the directory was made\n",
    "    print(\"The path of this new directory is:\", os.path.abspath(path)) #printing the path of the new directory "
   ]
  }
 ],
 "metadata": {
  "kernelspec": {
   "display_name": "Python 3",
   "language": "python",
   "name": "python3"
  },
  "language_info": {
   "codemirror_mode": {
    "name": "ipython",
    "version": 3
   },
   "file_extension": ".py",
   "mimetype": "text/x-python",
   "name": "python",
   "nbconvert_exporter": "python",
   "pygments_lexer": "ipython3",
   "version": "3.7.3"
  }
 },
 "nbformat": 4,
 "nbformat_minor": 4
}
