{
 "cells": [
  {
   "cell_type": "code",
   "execution_count": 5,
   "metadata": {},
   "outputs": [
    {
     "name": "stdout",
     "output_type": "stream",
     "text": [
      "[Decoded(data=b'SAMPLE 1', type='QRCODE', rect=Rect(left=40, top=40, width=210, height=210), polygon=[Point(x=40, y=40), Point(x=40, y=250), Point(x=250, y=250), Point(x=250, y=40)])]\n"
     ]
    }
   ],
   "source": [
    "#the purpose of this code is to decode a qrcode using pyzbar\n",
    "#Image module documentation: https://pillow.readthedocs.io/en/3.1.x/reference/Image.html\n",
    "#PIL documentation: https://pillow.readthedocs.io/en/stable/\n",
    "#qrcode was used to construct my qrcode: http://omz-software.com/editorial/docs/ios/qrcode.html\n",
    "#pyzbar documentation: https://pypi.org/project/pyzbar/\n",
    "\n",
    "#pyzbar documentation: https://pypi.org/project/pyzbar/\n",
    "from pyzbar.pyzbar import decode\n",
    "\n",
    "#Image module documentation: https://pillow.readthedocs.io/en/3.1.x/reference/Image.html\n",
    "#PIL documentation: https://pillow.readthedocs.io/en/stable/\n",
    "from PIL import Image\n",
    "\n",
    "img = Image.open('folder_attempts_success/labelled_jpegs_into_directory4/SAMPLE_1.jpg') #opening a qrcode I previously made\n",
    "print(decode(img)) #decoding the qrcode and printing the output\n",
    "img.close() #closing the image so it can't be edited anymore and is completely done"
   ]
  }
 ],
 "metadata": {
  "kernelspec": {
   "display_name": "Python 3",
   "language": "python",
   "name": "python3"
  },
  "language_info": {
   "codemirror_mode": {
    "name": "ipython",
    "version": 3
   },
   "file_extension": ".py",
   "mimetype": "text/x-python",
   "name": "python",
   "nbconvert_exporter": "python",
   "pygments_lexer": "ipython3",
   "version": "3.7.4"
  }
 },
 "nbformat": 4,
 "nbformat_minor": 4
}
