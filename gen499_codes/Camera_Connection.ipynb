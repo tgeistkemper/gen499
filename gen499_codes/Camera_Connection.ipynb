{
 "cells": [
  {
   "cell_type": "code",
   "execution_count": 1,
   "metadata": {},
   "outputs": [
    {
     "ename": "ModuleNotFoundError",
     "evalue": "No module named 'cv2'",
     "output_type": "error",
     "traceback": [
      "\u001b[0;31m---------------------------------------------------------------------------\u001b[0m",
      "\u001b[0;31mModuleNotFoundError\u001b[0m                       Traceback (most recent call last)",
      "\u001b[0;32m<ipython-input-1-f6efeb282f1d>\u001b[0m in \u001b[0;36m<module>\u001b[0;34m\u001b[0m\n\u001b[1;32m      4\u001b[0m \u001b[0;34m\u001b[0m\u001b[0m\n\u001b[1;32m      5\u001b[0m \u001b[0;31m#https://docs.opencv.org/master/\u001b[0m\u001b[0;34m\u001b[0m\u001b[0;34m\u001b[0m\u001b[0;34m\u001b[0m\u001b[0m\n\u001b[0;32m----> 6\u001b[0;31m \u001b[0;32mimport\u001b[0m \u001b[0mcv2\u001b[0m\u001b[0;34m\u001b[0m\u001b[0;34m\u001b[0m\u001b[0m\n\u001b[0m\u001b[1;32m      7\u001b[0m \u001b[0;34m\u001b[0m\u001b[0m\n\u001b[1;32m      8\u001b[0m \u001b[0;31m#initializing the camera below\u001b[0m\u001b[0;34m\u001b[0m\u001b[0;34m\u001b[0m\u001b[0;34m\u001b[0m\u001b[0m\n",
      "\u001b[0;31mModuleNotFoundError\u001b[0m: No module named 'cv2'"
     ]
    }
   ],
   "source": [
    "#the purpose of this code is to connect the camera on my laptop to the code\n",
    "#OpenCV module documentation: https://docs.opencv.org/master/\n",
    "#code similar to code from https://stackoverflow.com/questions/34588464/python-how-to-capture-image-from-webcam-on-click-using-opencv\n",
    "\n",
    "#https://docs.opencv.org/master/\n",
    "import cv2\n",
    "\n",
    "#initializing the camera below\n",
    "cam = cv2.VideoCapture(0) #index of the camera is 0\n",
    "cv2.namedWindow('test') #initializing/naming the window test\n",
    "img_counter = 0 #the number of images captured is 0\n",
    "\n",
    "while True: \n",
    "    ret, frame = cam.read() #reading the frames\n",
    "    cv2.imshow('test', frame) #showing the window with the frames\n",
    "    if not ret: #if the camera read isn't working...\n",
    "        break #...exit the loop\n",
    "    k = cv2.waitKey(1) #wait for a key to be pressed: either esc or space bar\n",
    "    \n",
    "    if k%256 == 27: #if esc is pressed...\n",
    "        print('Escape hit, closing the window...') #...tell the user what the program is doing...\n",
    "        break #... and exit the loop\n",
    "    elif k%256 == 32: #if space bar is pressed...\n",
    "        img_name = \"opencv_frame{}.jpg\".format(img_counter) #... save the file as a jpg\n",
    "        cv2.imwrite(img_name, frame) #saving the actual photo as a jpg\n",
    "        print(\"{} written!\".format(img_name)) #telling the user that the jpg was written with the actual file name\n",
    "        img_counter += 1 #adding 1 to the img_counter so photos are not overwritten when another is taken\n",
    "\n",
    "cam.release() #stopping the camera from being read\n",
    "cv2.destroyAllWindows() #closing the windows"
   ]
  }
 ],
 "metadata": {
  "kernelspec": {
   "display_name": "Python 3",
   "language": "python",
   "name": "python3"
  },
  "language_info": {
   "codemirror_mode": {
    "name": "ipython",
    "version": 3
   },
   "file_extension": ".py",
   "mimetype": "text/x-python",
   "name": "python",
   "nbconvert_exporter": "python",
   "pygments_lexer": "ipython3",
   "version": "3.7.4"
  }
 },
 "nbformat": 4,
 "nbformat_minor": 4
}
