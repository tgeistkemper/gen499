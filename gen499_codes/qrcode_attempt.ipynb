{
 "cells": [
  {
   "cell_type": "code",
   "execution_count": 2,
   "metadata": {},
   "outputs": [],
   "source": [
    "#The purpose of this code is to attempt a QrCode and learn how to use JupyterLab\n",
    "\n",
    "#pyqrcode was used to construct my qrcode: https://github.com/mnooner256/pyqrcode, retrieved Wednesday, September 25th, at 3:26 PM\n",
    "#png was used to construct the png image of the qrcode: https://github.com/drj11/pypng, retrieved Wednesday, September 25th, at 3:29 PM\n",
    "\n",
    "#https://github.com/mnooner256/pyqrcode, retrieved Wednesday, September 25th, at 3:26 PM\n",
    "import pyqrcode\n",
    "\n",
    "#https://github.com/drj11/pypng, retrieved Wednesday, September 25th, at 3:29 PM\n",
    "import png\n",
    "\n",
    "same_qrcode = pyqrcode.create('https://sites.google.com/view/math165') #creating a qrcode with a link to the math165 website\n",
    "same_qrcode.png('Math165.png') #creating a png image of the qrcode"
   ]
  }
 ],
 "metadata": {
  "kernelspec": {
   "display_name": "Python 3",
   "language": "python",
   "name": "python3"
  },
  "language_info": {
   "codemirror_mode": {
    "name": "ipython",
    "version": 3
   },
   "file_extension": ".py",
   "mimetype": "text/x-python",
   "name": "python",
   "nbconvert_exporter": "python",
   "pygments_lexer": "ipython3",
   "version": "3.7.3"
  }
 },
 "nbformat": 4,
 "nbformat_minor": 4
}
