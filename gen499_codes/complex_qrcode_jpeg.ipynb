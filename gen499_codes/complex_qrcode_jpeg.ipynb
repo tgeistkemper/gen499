{
 "cells": [
  {
   "cell_type": "code",
   "execution_count": 25,
   "metadata": {},
   "outputs": [],
   "source": [
    "#the purpose of this code is to learn how to encode data in a way that is more suitable for the information in the qrcode\n",
    "#as a jpeg\n",
    "#qrcode was used to construct my qrcode: http://omz-software.com/editorial/docs/ios/qrcode.html\n",
    "#Image module documentation: https://pillow.readthedocs.io/en/3.1.x/reference/Image.html\n",
    "\n",
    "#http://omz-software.com/editorial/docs/ios/qrcode.html\n",
    "import qrcode\n",
    "\n",
    "#Image module documentation: https://pillow.readthedocs.io/en/3.1.x/reference/Image.html\n",
    "#PIL documentation: https://pillow.readthedocs.io/en/stable/\n",
    "from PIL import Image\n",
    "\n",
    "#version = 1: 21*21 which is the smallest version\n",
    "#error_correction = qrcode.constants.ERROR_CORRECT_L: the smallest qrcode version\n",
    "#box_size = 10: makes the image larger without making the qrcode more pixelated\n",
    "qr = qrcode.QRCode(version = 1, error_correction = qrcode.constants.ERROR_CORRECT_L, box_size = 10)\n",
    "\n",
    "qr.add_data('Group1_Sample1') #adding the data\n",
    "qr.make() #making the qrcode\n",
    "img = qr.make_image() #making the qrcode an image\n",
    "img.save(\"complex_sample1.jpg\") #saving the image"
   ]
  }
 ],
 "metadata": {
  "kernelspec": {
   "display_name": "Python 3",
   "language": "python",
   "name": "python3"
  },
  "language_info": {
   "codemirror_mode": {
    "name": "ipython",
    "version": 3
   },
   "file_extension": ".py",
   "mimetype": "text/x-python",
   "name": "python",
   "nbconvert_exporter": "python",
   "pygments_lexer": "ipython3",
   "version": "3.7.4"
  }
 },
 "nbformat": 4,
 "nbformat_minor": 4
}
