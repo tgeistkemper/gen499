{
 "cells": [
  {
   "cell_type": "code",
   "execution_count": 5,
   "metadata": {},
   "outputs": [],
   "source": [
    "#The purpose of this code is to learn how to label the qrcode with the sample ID on the photo to make them easier\n",
    "#to distinguish\n",
    "#pyqrcode was used to construct my qrcode: https://github.com/mnooner256/pyqrcode, retrieved Wednesday, September 25th, at 3:26 PM\n",
    "#code used to make images was based off of https://code-maven.com/create-images-with-python-pil-pillow\n",
    "#Image module documentation: https://pillow.readthedocs.io/en/3.1.x/reference/Image.html\n",
    "#ImageDraw module documentation: https://pillow.readthedocs.io/en/3.1.x/reference/ImageDraw.html\n",
    "#PIL documentation: https://pillow.readthedocs.io/en/stable/\n",
    "#code also based off of https://stackoverflow.com/questions/37924130/pil-add-a-text-at-the-bottom-middle-of-image\n",
    "\n",
    "#https://github.com/mnooner256/pyqrcode, retrieved Wednesday, September 25th, at 3:26 PM\n",
    "import pyqrcode\n",
    "\n",
    "#Image module documentation: https://pillow.readthedocs.io/en/3.1.x/reference/Image.html\n",
    "#ImageDraw module documentation: https://pillow.readthedocs.io/en/3.1.x/reference/ImageDraw.html\n",
    "#PIL documentation: https://pillow.readthedocs.io/en/stable/\n",
    "from PIL import Image, ImageDraw\n",
    "\n",
    "labelling_sample = pyqrcode.create('Sample1') #creating a qrcode to use in this code\n",
    "labelling_sample.png('sample1L.png', scale = 5) #creating a png of this qrcode to use in this code\n",
    "\n",
    "img = Image.open('sample1L.png') #opening the png I just made\n",
    "edit_img = ImageDraw.Draw(img) #getting the png ready to edit\n",
    "w, h = img.size #finding the size of the image\n",
    "text_w, text_h = edit_img.textsize('Sample 1') #finding the size of the text\n",
    "#Below: editing the image: w - text_w // 2 is taking the size of the image minus the size of the text and dividing it by \n",
    "#two (centering it) (because it is the x value), h - text_h is putting the text to the bottom (because it is the y value),\n",
    "#and 'Sample1' is the text to be drawn.\n",
    "edit_img.multiline_text(((w - text_w) // 2, h - text_h), 'Sample 1')\n",
    "img.save('sample1L.png') #saving the image over itself (replacing it)\n",
    "img.close() #closing the image so it can't be edited anymore and is completely done"
   ]
  }
 ],
 "metadata": {
  "kernelspec": {
   "display_name": "Python 3",
   "language": "python",
   "name": "python3"
  },
  "language_info": {
   "codemirror_mode": {
    "name": "ipython",
    "version": 3
   },
   "file_extension": ".py",
   "mimetype": "text/x-python",
   "name": "python",
   "nbconvert_exporter": "python",
   "pygments_lexer": "ipython3",
   "version": "3.7.3"
  }
 },
 "nbformat": 4,
 "nbformat_minor": 4
}
