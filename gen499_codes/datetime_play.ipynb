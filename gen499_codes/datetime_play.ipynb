{
 "cells": [
  {
   "cell_type": "code",
   "execution_count": 3,
   "metadata": {},
   "outputs": [
    {
     "name": "stdout",
     "output_type": "stream",
     "text": [
      "2019-10-09 15:41:37.525586\n",
      "2019-10-09 15:41\n"
     ]
    }
   ],
   "source": [
    "#The purpose of this code is to become comfortable using datetime\n",
    "#https://docs.python.org/3/library/datetime.html - documentation for datetime\n",
    "\n",
    "#https://docs.python.org/3/library/datetime.html \n",
    "import datetime\n",
    "\n",
    "#code based on code from https://www.saltycrane.com/blog/2008/06/how-to-get-current-date-and-time-in/\n",
    "current_time = datetime.datetime.now() #reading the current date/time\n",
    "print(str(current_time)) #printing the current date/time as specific as possible\n",
    "print(current_time.strftime(\"%Y-%m-%d %H:%M\")) #printing the current year, month, day, hour, and minute"
   ]
  }
 ],
 "metadata": {
  "kernelspec": {
   "display_name": "Python 3",
   "language": "python",
   "name": "python3"
  },
  "language_info": {
   "codemirror_mode": {
    "name": "ipython",
    "version": 3
   },
   "file_extension": ".py",
   "mimetype": "text/x-python",
   "name": "python",
   "nbconvert_exporter": "python",
   "pygments_lexer": "ipython3",
   "version": "3.7.3"
  }
 },
 "nbformat": 4,
 "nbformat_minor": 4
}
