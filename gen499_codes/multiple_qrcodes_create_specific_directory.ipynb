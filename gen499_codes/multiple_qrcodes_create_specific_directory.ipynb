{
 "cells": [
  {
   "cell_type": "code",
   "execution_count": null,
   "metadata": {},
   "outputs": [],
   "source": [
    "#The purpose of this code is to put qrcodes into a directory specified by user input\n",
    "#https://stackabuse.com/creating-and-deleting-directories-with-python/ - a website I used for learning about the os module\n",
    "#https://docs.python.org/3/library/os.html - documentation for the os python module\n",
    "#https://docs.python.org/3/library/os.path.html#module-os.path - documentation for the os.path python module\n",
    "#https://stackoverflow.com/questions/49893501/python-moving-files-to-folder-based-on-filenames code I modeled for (BcK)\n",
    "\n",
    "#https://docs.python.org/3/library/os.html\n",
    "import os\n",
    "\n",
    "os.chdir(\"/Users\")\n",
    "print(\"Current directory:\", str(os.getcwd()))\n",
    "\n",
    "path = input(\"Input the directory you wish your qrcodes to be put into: \") #naming the directory or \"path\" to be created\n",
    "print(\"You would like to put your qrcodes into\", str(path))\n",
    "yes_or_no = input(\"Is this correct?\")\n",
    "\n",
    "while yes_or_no == \"no\":\n",
    "    path = input(\"Input the directory you wish your qrcodes to be put into: \")\n",
    "    print(\"You would like to put your qrcodes into\", path)\n",
    "    yes_or_no = input(\"Is this correct?\")\n",
    "\n",
    "print(\"Checking if directory exists\")\n",
    "    \n",
    "if os.path.isdir(path) == True: #if the directory already exists...\n",
    "    print(\"This directory already exists.\") #Do not create this directory as it will result in an error. Print this instead\n",
    "    print(\"The path of this directory is:\", os.path.abspath(path))\n",
    "    answer = input(\"Do you want to put your qrcodes into this directory? Type yes or no\")\n",
    "    if answer == \"yes\":\n",
    "        print(\"Moving to this directory\")\n",
    "        os.chdir(os.path.abspath(path))\n",
    "        print(\"Moved.\")\n",
    "    else:\n",
    "        print(\"Please run the code again with a new directory in mind.\")\n",
    "else: #if the directory does not already exist...\n",
    "    print(\"Creating new directory.\")\n",
    "    os.mkdir(path)\n",
    "    print(\"New directory made.\") #Print statement letting the user know the directory was made\n",
    "    print(\"The path of this new directory is:\", os.path.abspath(path)) #printing the path of the new directory "
   ]
  },
  {
   "cell_type": "code",
   "execution_count": null,
   "metadata": {},
   "outputs": [],
   "source": [
    "#The purpose of this code is to create qrcodes from given sources and move them into a directory (new or old - prompted)\n",
    "\n",
    "#pyqrcode was used to construct my qrcode: https://github.com/mnooner256/pyqrcode, retrieved Wednesday, September 25th, at 3:26 PM\n",
    "#png was used to construct the png image of the qrcode: https://github.com/drj11/pypng, retrieved Wednesday, September 25th, at 3:29 PM\n",
    "\n",
    "#https://github.com/mnooner256/pyqrcode, retrieved Wednesday, September 25th, at 3:26 PM\n",
    "import pyqrcode\n",
    "\n",
    "#below is a list of websites, each of which is going to be linked to by a qrcode. \n",
    "list_of_websites = ['https://sites.google.com/view/math165', 'https://sites.google.com/view/math166', 'https://sites.google.com/view/math265']\n",
    "\n",
    "#below is a list of titles for each site of list_of_sites in order.\n",
    "list_of_associated = ['MATH165', 'MATH166', 'MATH265']\n",
    "\n",
    "#below is a dictionary created by the zip function. The dictionary consists of list_of_sites and list_of_associated\n",
    "dict_of_associated_websites = dict(zip(list_of_websites, list_of_associated))\n",
    "\n",
    "#below begins a for loop involving every item ('website') in the list, list_of_websites.\n",
    "for website in list_of_websites: \n",
    "    list_qrcode = pyqrcode.create(website) #creating a qrcode with each item ('website') in list_of_websites\n",
    "    list_qrcode.png(dict_of_associated_websites[website]+'.png') #saving each qrcode and naming each by its associated name in the dictionary"
   ]
  }
 ],
 "metadata": {
  "kernelspec": {
   "display_name": "Python 3",
   "language": "python",
   "name": "python3"
  },
  "language_info": {
   "codemirror_mode": {
    "name": "ipython",
    "version": 3
   },
   "file_extension": ".py",
   "mimetype": "text/x-python",
   "name": "python",
   "nbconvert_exporter": "python",
   "pygments_lexer": "ipython3",
   "version": "3.7.3"
  }
 },
 "nbformat": 4,
 "nbformat_minor": 4
}
