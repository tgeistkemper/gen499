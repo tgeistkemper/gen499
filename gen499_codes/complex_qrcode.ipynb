{
 "cells": [
  {
   "cell_type": "code",
   "execution_count": 5,
   "metadata": {},
   "outputs": [],
   "source": [
    "#the purpose of this code is to learn how to encode data in a way that is more suitable for the information in the qrcode\n",
    "#pyqrcode was used to construct my qrcode: https://github.com/mnooner256/pyqrcode, retrieved Wednesday, September 25th, at 3:26 PM\n",
    "\n",
    "#https://github.com/mnooner256/pyqrcode, retrieved Wednesday, September 25th, at 3:26 PM\n",
    "import pyqrcode\n",
    "\n",
    "sample1 = pyqrcode.create('Sample 1A', error = 'M', version = 1) #creating a qrcode with medium error and the smallest number of pixels\n",
    "sample1.png('complex_sample3.png', scale = 5) #creating an png of the image\n"
   ]
  }
 ],
 "metadata": {
  "kernelspec": {
   "display_name": "Python 3",
   "language": "python",
   "name": "python3"
  },
  "language_info": {
   "codemirror_mode": {
    "name": "ipython",
    "version": 3
   },
   "file_extension": ".py",
   "mimetype": "text/x-python",
   "name": "python",
   "nbconvert_exporter": "python",
   "pygments_lexer": "ipython3",
   "version": "3.7.3"
  }
 },
 "nbformat": 4,
 "nbformat_minor": 4
}
