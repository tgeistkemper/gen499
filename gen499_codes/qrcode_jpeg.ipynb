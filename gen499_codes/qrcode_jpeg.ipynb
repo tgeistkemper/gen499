{
 "cells": [
  {
   "cell_type": "code",
   "execution_count": 40,
   "metadata": {},
   "outputs": [],
   "source": [
    "#the purpose of this code is to learn how to save a qrcode as a jpeg file\n",
    "#qrcode was used to construct my qrcode: http://omz-software.com/editorial/docs/ios/qrcode.html\n",
    "#Image module documentation: https://pillow.readthedocs.io/en/3.1.x/reference/Image.html\n",
    "\n",
    "#http://omz-software.com/editorial/docs/ios/qrcode.html\n",
    "import qrcode\n",
    "\n",
    "#Image module documentation: https://pillow.readthedocs.io/en/3.1.x/reference/Image.html\n",
    "#PIL documentation: https://pillow.readthedocs.io/en/stable/\n",
    "from PIL import Image\n",
    "\n",
    "img = qrcode.make(version = 1) #making a simple qrcode (with no data) as an image file\n",
    "img.save(\"sample1.jpg\") #saving the image as a jpg"
   ]
  }
 ],
 "metadata": {
  "kernelspec": {
   "display_name": "Python 3",
   "language": "python",
   "name": "python3"
  },
  "language_info": {
   "codemirror_mode": {
    "name": "ipython",
    "version": 3
   },
   "file_extension": ".py",
   "mimetype": "text/x-python",
   "name": "python",
   "nbconvert_exporter": "python",
   "pygments_lexer": "ipython3",
   "version": "3.7.4"
  }
 },
 "nbformat": 4,
 "nbformat_minor": 4
}
