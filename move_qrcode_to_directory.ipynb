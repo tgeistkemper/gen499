{
 "cells": [
  {
   "cell_type": "code",
   "execution_count": null,
   "metadata": {},
   "outputs": [],
   "source": []
  },
  {
   "cell_type": "code",
   "execution_count": 8,
   "metadata": {},
   "outputs": [],
   "source": [
    "#The purpose of this code is to create and move qrcodes to a specific directory\n",
    "#https://stackabuse.com/creating-and-deleting-directories-with-python/ - a website I used for learning about the os module\n",
    "#https://docs.python.org/3/library/os.html - documentation for the os python module\n",
    "#https://docs.python.org/3/library/os.path.html#module-os.path - documentation for the os.path python module\n",
    "#pyqrcode was used to construct my qrcode: https://github.com/mnooner256/pyqrcode, retrieved Wednesday, September 25th, at 3:26 PM\n",
    "\n",
    "#https://github.com/mnooner256/pyqrcode, retrieved Wednesday, September 25th, at 3:26 PM\n",
    "import pyqrcode\n",
    "\n",
    "#https://docs.python.org/3/library/os.html\n",
    "import os\n",
    "\n",
    "#https://docs.python.org/3/library/shutil.html\n",
    "import shutil\n",
    "\n",
    "path = \"./attempt4\" #naming the directory/path to be created\n",
    "os.mkdir(path) #creating the path\n",
    "\n",
    "#below is a list of websites, each of which is going to be linked to by a qrcode. \n",
    "list_of_websites = ['https://sites.google.com/view/math165', 'https://sites.google.com/view/math166', 'https://sites.google.com/view/math265']\n",
    "\n",
    "#below is a list of titles for each site of list_of_sites in order.\n",
    "list_of_associated = ['MATH165', 'MATH166', 'MATH265']\n",
    "\n",
    "#below is a dictionary created by the zip function. The dictionary consists of list_of_sites and list_of_associated\n",
    "dict_of_associated_websites = dict(zip(list_of_websites, list_of_associated))\n",
    "\n",
    "#below begins a for loop involving every item ('website') in the list, list_of_websites.\n",
    "for website in list_of_websites: \n",
    "    list_qrcode = pyqrcode.create(website) #creating a qrcode with each item ('website') in list_of_websites\n",
    "    list_qrcode.png(dict_of_associated_websites[website]+'.png') #saving each qrcode and naming each by its associated name in the dictionary\n",
    "    shutil.move(dict_of_associated_websites[website]+'.png', os.path.abspath(path)) #moving the qrcode to the directory"
   ]
  }
 ],
 "metadata": {
  "kernelspec": {
   "display_name": "Python 3",
   "language": "python",
   "name": "python3"
  },
  "language_info": {
   "codemirror_mode": {
    "name": "ipython",
    "version": 3
   },
   "file_extension": ".py",
   "mimetype": "text/x-python",
   "name": "python",
   "nbconvert_exporter": "python",
   "pygments_lexer": "ipython3",
   "version": "3.7.3"
  }
 },
 "nbformat": 4,
 "nbformat_minor": 4
}
