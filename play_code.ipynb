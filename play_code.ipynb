{
 "cells": [
  {
   "cell_type": "code",
   "execution_count": 7,
   "metadata": {},
   "outputs": [],
   "source": [
    "#play code to fix code\n",
    "#https://github.com/mnooner256/pyqrcode, retrieved Wednesday, September 25th, at 3:26 PM\n",
    "import pyqrcode\n",
    "\n",
    "#https://docs.python.org/3/library/os.html\n",
    "import os\n",
    "\n",
    "#https://docs.python.org/3/library/shutil.html\n",
    "import shutil\n",
    "\n",
    "#https://docs.python.org/3/library/datetime.html \n",
    "import datetime\n",
    "\n",
    "#code based on code from https://www.saltycrane.com/blog/2008/06/how-to-get-current-date-and-time-in/\n",
    "current_time = datetime.datetime.now() #reading the current date/time\n",
    "sample_time = current_time.strftime(\"%Y-%m-%d %H:%M\")\n",
    "\n",
    "#below is a list of titles for each site of list_of_data in order.\n",
    "list_of_data = ['SAMPLE 1: '+str(sample_time), 'SAMPLE 2: '+str(sample_time), 'SAMPLE 3: '+str(sample_time)]\n",
    "\n",
    "#below is a list of data, each of which is going to be linked to by a qrcode. \n",
    "list_of_associated = ['SAMPLE_1', 'SAMPLE_2', 'SAMPLE_3']\n",
    "\n",
    "#below is a dictionary created by the zip function. The dictionary consists of list_of_data and list_of_associated\n",
    "dict_of_associated_data = dict(zip(list_of_data, list_of_associated))\n",
    "\n",
    "#below begins a for loop involving every item ('data') in the list, list_of_data.\n",
    "for data in list_of_data: \n",
    "    list_qrcode = pyqrcode.create(data) #creating a qrcode with each item ('data') in list_of_websites\n",
    "    list_qrcode.png(dict_of_associated_data[data]+'.png') #saving each qrcode and naming each by its associated name in the dictionary"
   ]
  }
 ],
 "metadata": {
  "kernelspec": {
   "display_name": "Python 3",
   "language": "python",
   "name": "python3"
  },
  "language_info": {
   "codemirror_mode": {
    "name": "ipython",
    "version": 3
   },
   "file_extension": ".py",
   "mimetype": "text/x-python",
   "name": "python",
   "nbconvert_exporter": "python",
   "pygments_lexer": "ipython3",
   "version": "3.7.3"
  }
 },
 "nbformat": 4,
 "nbformat_minor": 4
}
