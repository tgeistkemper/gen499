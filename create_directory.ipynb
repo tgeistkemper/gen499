{
 "cells": [
  {
   "cell_type": "code",
   "execution_count": 4,
   "metadata": {},
   "outputs": [],
   "source": [
    "#The purpose of this code is to learn how to make a directory for my qrcodes\n",
    "#https://stackabuse.com/creating-and-deleting-directories-with-python/ - a website I used for learning about the os module\n",
    "#https://docs.python.org/3/library/os.html - documentation for the os python module\n",
    "#https://www.tutorialspoint.com/python/os_mkdir.htm - I used this code format for the first code\n",
    "\n",
    "#https://docs.python.org/3/library/os.html\n",
    "import os\n",
    "\n",
    "path = \"./qrcode_place\" #naming the path to be created\n",
    "\n",
    "os.mkdir(path) #creating the path"
   ]
  }
 ],
 "metadata": {
  "kernelspec": {
   "display_name": "Python 3",
   "language": "python",
   "name": "python3"
  },
  "language_info": {
   "codemirror_mode": {
    "name": "ipython",
    "version": 3
   },
   "file_extension": ".py",
   "mimetype": "text/x-python",
   "name": "python",
   "nbconvert_exporter": "python",
   "pygments_lexer": "ipython3",
   "version": "3.7.3"
  }
 },
 "nbformat": 4,
 "nbformat_minor": 4
}
