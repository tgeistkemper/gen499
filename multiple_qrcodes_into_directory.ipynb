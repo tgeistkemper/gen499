{
 "cells": [
  {
   "cell_type": "code",
   "execution_count": 5,
   "metadata": {},
   "outputs": [],
   "source": [
    "#The purpose of this code is to create and move qrcodes with sample ID number, date, and code to a specific directory\n",
    "#https://stackabuse.com/creating-and-deleting-directories-with-python/ - a website I used for learning about the os module\n",
    "#https://docs.python.org/3/library/os.html - documentation for the os python module\n",
    "#https://docs.python.org/3/library/os.path.html#module-os.path - documentation for the os.path python module\n",
    "#pyqrcode was used to construct my qrcode: https://github.com/mnooner256/pyqrcode, retrieved Wednesday, September 25th, at 3:26 PM\n",
    "\n",
    "#https://github.com/mnooner256/pyqrcode, retrieved Wednesday, September 25th, at 3:26 PM\n",
    "import pyqrcode\n",
    "\n",
    "#https://docs.python.org/3/library/os.html\n",
    "import os\n",
    "\n",
    "#https://docs.python.org/3/library/shutil.html\n",
    "import shutil\n",
    "\n",
    "#https://docs.python.org/3/library/datetime.html \n",
    "import datetime\n",
    "\n",
    "#code based on code from https://www.saltycrane.com/blog/2008/06/how-to-get-current-date-and-time-in/\n",
    "current_time = datetime.datetime.now() #reading the current date/time\n",
    "sample_time = current_time.strftime(\"Date and time of taken sample: %m-%d-%Y %H:%M\") #creating a variable with the current year, month, day, hour, and minute\n",
    "\n",
    "path = \"./multiple_qrcodes_into_directory_attempt26\" #naming the directory/path to be created\n",
    "os.mkdir(path) #creating the path\n",
    "\n",
    "#below is a list of titles for each site of list_of_data in order.\n",
    "list_of_data = ['SAMPLE 1: '+str(sample_time), 'SAMPLE 2: '+str(sample_time), 'SAMPLE 3: '+str(sample_time)]\n",
    "\n",
    "#below is a list of data, each of which is going to be linked to by a qrcode. \n",
    "list_of_associated = ['SAMPLE_1', 'SAMPLE_2', 'SAMPLE_3']\n",
    "\n",
    "#below is a dictionary created by the zip function. The dictionary consists of list_of_data and list_of_associated\n",
    "dict_of_associated_data = dict(zip(list_of_data, list_of_associated))\n",
    "\n",
    "#below begins a for loop involving every item ('data') in the list, list_of_data.\n",
    "for data in list_of_data: \n",
    "    list_qrcode = pyqrcode.create(data, error = 'M', version = 4) #creating a qrcode with each item ('data') in list_of_data\n",
    "    list_qrcode.png(dict_of_associated_data[data]+'.png', scale = 5) #saving each qrcode and naming each by its associated name in the dictionary\n",
    "    shutil.move(dict_of_associated_data[data]+'.png', os.path.abspath(path)) #moving the qrcodes to the new folder"
   ]
  }
 ],
 "metadata": {
  "kernelspec": {
   "display_name": "Python 3",
   "language": "python",
   "name": "python3"
  },
  "language_info": {
   "codemirror_mode": {
    "name": "ipython",
    "version": 3
   },
   "file_extension": ".py",
   "mimetype": "text/x-python",
   "name": "python",
   "nbconvert_exporter": "python",
   "pygments_lexer": "ipython3",
   "version": "3.7.3"
  }
 },
 "nbformat": 4,
 "nbformat_minor": 4
}
